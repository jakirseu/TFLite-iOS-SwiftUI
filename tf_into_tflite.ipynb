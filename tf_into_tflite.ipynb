{
  "nbformat": 4,
  "nbformat_minor": 0,
  "metadata": {
    "colab": {
      "provenance": []
    },
    "kernelspec": {
      "name": "python3",
      "display_name": "Python 3"
    },
    "language_info": {
      "name": "python"
    }
  },
  "cells": [
    {
      "cell_type": "code",
      "execution_count": 4,
      "metadata": {
        "colab": {
          "base_uri": "https://localhost:8080/"
        },
        "id": "IJnEUHrKxkKn",
        "outputId": "8947f84f-125e-4b21-bcc9-27d168cbede1"
      },
      "outputs": [
        {
          "output_type": "stream",
          "name": "stdout",
          "text": [
            "Finished training the model\n",
            "1/1 [==============================] - 0s 58ms/step\n",
            "[[211.56012]]\n"
          ]
        }
      ],
      "source": [
        "import tensorflow as tf\n",
        "import numpy as np\n",
        "import keras\n",
        "from keras import layers\n",
        "\n",
        "# training data\n",
        "celsius    = np.array([-40, -10,  0,  8, 15, 22,  38],  dtype=float)\n",
        "fahrenheit = np.array([-40,  14, 32, 46.4, 59, 71.6, 100.4],  dtype=float)\n",
        "\n",
        "\n",
        "# model creation\n",
        "model = keras.Sequential([\n",
        "layers.Dense(units=1, input_shape=[1])\n",
        "])\n",
        "\n",
        "# model compilation\n",
        "model.compile(loss='mean_squared_error',\n",
        "              optimizer=tf.keras.optimizers.Adam(0.1))\n",
        "# model training\n",
        "model.fit(celsius, fahrenheit, epochs=500, verbose=False)\n",
        "print(\"Finished training the model\")\n",
        "\n",
        "# predict\n",
        "print(model.predict([100.0]))\n"
      ]
    },
    {
      "cell_type": "code",
      "source": [
        "# convert TF model into TFLite model\n",
        "converter = tf.lite.TFLiteConverter.from_keras_model(model=model)\n",
        "\n",
        "tfmodel = converter.convert()\n",
        "\n",
        "# Save TFLite model into a .tflite file\n",
        "\n",
        "open(\"model.tflite\",\"wb\").write(tfmodel)"
      ],
      "metadata": {
        "colab": {
          "base_uri": "https://localhost:8080/"
        },
        "id": "-7M4WjHqyA7y",
        "outputId": "157ac9eb-baf8-4418-d71e-09574779ec96"
      },
      "execution_count": 5,
      "outputs": [
        {
          "output_type": "execute_result",
          "data": {
            "text/plain": [
              "1092"
            ]
          },
          "metadata": {},
          "execution_count": 5
        }
      ]
    }
  ]
}